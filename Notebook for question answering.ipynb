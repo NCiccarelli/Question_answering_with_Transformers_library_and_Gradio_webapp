{
 "cells": [
  {
   "cell_type": "markdown",
   "id": "e15539f8",
   "metadata": {},
   "source": [
    "### Installations and importations"
   ]
  },
  {
   "cell_type": "code",
   "execution_count": 1,
   "id": "a6199a92",
   "metadata": {},
   "outputs": [
    {
     "name": "stderr",
     "output_type": "stream",
     "text": [
      "C:\\Users\\n_cic\\anaconda3\\envs\\qna_app_env\\lib\\site-packages\\tqdm\\auto.py:21: TqdmWarning: IProgress not found. Please update jupyter and ipywidgets. See https://ipywidgets.readthedocs.io/en/stable/user_install.html\n",
      "  from .autonotebook import tqdm as notebook_tqdm\n"
     ]
    }
   ],
   "source": [
    "from transformers import AutoModelForQuestionAnswering, AutoTokenizer, pipeline\n",
    "import gradio \n",
    "import ast"
   ]
  },
  {
   "cell_type": "markdown",
   "id": "35633612",
   "metadata": {},
   "source": [
    "### Setting up the HuggingFace pipeline: "
   ]
  },
  {
   "cell_type": "code",
   "execution_count": 2,
   "id": "662bf383",
   "metadata": {},
   "outputs": [
    {
     "name": "stderr",
     "output_type": "stream",
     "text": [
      "Downloading (…)lve/main/config.json: 100%|█████████████████████████████████████████████| 473/473 [00:00<00:00, 117kB/s]\n",
      "C:\\Users\\n_cic\\anaconda3\\envs\\qna_app_env\\lib\\site-packages\\huggingface_hub\\file_download.py:133: UserWarning: `huggingface_hub` cache-system uses symlinks by default to efficiently store duplicated files but your machine does not support them in C:\\Users\\n_cic\\.cache\\huggingface\\hub. Caching files will still work but in a degraded version that might require more space on your disk. This warning can be disabled by setting the `HF_HUB_DISABLE_SYMLINKS_WARNING` environment variable. For more details, see https://huggingface.co/docs/huggingface_hub/how-to-cache#limitations.\n",
      "To support symlinks on Windows, you either need to activate Developer Mode or to run Python as an administrator. In order to see activate developer mode, see this article: https://docs.microsoft.com/en-us/windows/apps/get-started/enable-your-device-for-development\n",
      "  warnings.warn(message)\n",
      "Downloading model.safetensors: 100%|████████████████████████████████████████████████| 261M/261M [00:53<00:00, 4.87MB/s]\n",
      "Downloading (…)okenizer_config.json: 100%|██████████████████████████████████████████| 29.0/29.0 [00:00<00:00, 7.27kB/s]\n",
      "Downloading (…)solve/main/vocab.txt: 100%|██████████████████████████████████████████| 213k/213k [00:00<00:00, 1.19MB/s]\n",
      "Downloading (…)/main/tokenizer.json: 100%|██████████████████████████████████████████| 436k/436k [00:00<00:00, 1.54MB/s]\n"
     ]
    }
   ],
   "source": [
    "mdl_name = \"distilbert-base-cased-distilled-squad\"\n",
    "my_pipeline = pipeline('question-answering', model=mdl_name,tokenizer=mdl_name)"
   ]
  },
  {
   "cell_type": "markdown",
   "id": "a7428cc5",
   "metadata": {},
   "source": [
    "### predict using transformers"
   ]
  },
  {
   "cell_type": "code",
   "execution_count": 4,
   "id": "1f609a99",
   "metadata": {},
   "outputs": [],
   "source": [
    "# Function to predict using transformers\n",
    "def answer_question(question, context):\n",
    "    response = my_pipeline({\n",
    "        'question': question,\n",
    "        'context': context\n",
    "    })\n",
    "    return response['answer']"
   ]
  },
  {
   "cell_type": "code",
   "execution_count": 5,
   "id": "73823deb",
   "metadata": {},
   "outputs": [
    {
     "name": "stdout",
     "output_type": "stream",
     "text": [
      "1889\n"
     ]
    }
   ],
   "source": [
    "# Sample question and context\n",
    "context = \"The Eiffel Tower is located in Paris and it was completed in 1889.\"\n",
    "question = \"When was the Eiffel Tower completed?\"\n",
    "\n",
    "# Get the answer\n",
    "answer = answer_question(question, context)\n",
    "print(answer) "
   ]
  },
  {
   "cell_type": "markdown",
   "id": "fd0c24a6",
   "metadata": {},
   "source": [
    "### second prediction using transfomers"
   ]
  },
  {
   "cell_type": "code",
   "execution_count": 8,
   "id": "4f657a6e",
   "metadata": {},
   "outputs": [
    {
     "name": "stdout",
     "output_type": "stream",
     "text": [
      "Lord Chamberlain's Men\n"
     ]
    }
   ],
   "source": [
    "context1 = \"\"\"\n",
    "William Shakespeare was an English playwright, poet, and actor, widely regarded as the greatest writer in the\n",
    "English language and the world's greatest dramatist. He is often referred to as England's national poet and \n",
    "the \"Bard of Avon.\" His plays have been translated into every major living language and are performed more often\n",
    "than those of any other playwright. Shakespeare was born and raised in Stratford-upon-Avon, Warwickshire. At the\n",
    "age of 18, he married Anne Hathaway, with whom he had three children: Susanna and twins Hamnet and Judith.\n",
    "Sometime between 1585 and 1592, he began a successful career in London as an actor, writer, and part-owner \n",
    "of a playing company called the Lord Chamberlain's Men, later known as the King's Men.\n",
    "\"\"\"\n",
    "\n",
    "question1 = \"\"\"\n",
    "What was the name of the playing company that William Shakespeare was a part-owner of?\n",
    "\"\"\"\n",
    "\n",
    "answer1 = answer_question(question1, context1)\n",
    "print(answer1)  "
   ]
  },
  {
   "cell_type": "markdown",
   "id": "34678eb9",
   "metadata": {},
   "source": [
    "### third prediction using transfomers"
   ]
  },
  {
   "cell_type": "code",
   "execution_count": 10,
   "id": "22ad2edd",
   "metadata": {},
   "outputs": [
    {
     "name": "stdout",
     "output_type": "stream",
     "text": [
      "Mercury, Venus, Earth, and Mars\n"
     ]
    }
   ],
   "source": [
    "context2 = \"\"\"\n",
    "The Solar System is the gravitationally bound system of the Sun and the objects that orbit it, either directly \n",
    "or indirectly. Of the objects that orbit the Sun directly, the largest are the eight planets, with the remainder \n",
    "being smaller objects, the dwarf planets and small Solar System bodies. Of the objects that orbit the Sun \n",
    "indirectly—the natural satellites—two are larger than the smallest planet, Mercury. The Solar System formed \n",
    "4.6 billion years ago from the gravitational collapse of a giant interstellar molecular cloud. The vast majority \n",
    "of the system's mass is in the Sun, with the majority of the remaining mass contained in Jupiter. The four smaller\n",
    "inner planets, Mercury, Venus, Earth, and Mars, are terrestrial planets, being primarily composed of rock and metal. \n",
    "The four outer planets are giant planets, being substantially more massive than the terrestrials.\n",
    "\"\"\"\n",
    "\n",
    "question2 = \"\"\"\n",
    "Which planets in the Solar System are considered terrestrial?\n",
    "\"\"\"\n",
    "\n",
    "answer2 = answer_question(question2, context2)\n",
    "print(answer2)  # This should print \"Mercury, Venus, Earth, and Mars, being primarily composed of rock and metal.\"\n"
   ]
  },
  {
   "cell_type": "code",
   "execution_count": null,
   "id": "09e8f9b9",
   "metadata": {},
   "outputs": [],
   "source": []
  },
  {
   "cell_type": "markdown",
   "id": "d0cb4fee",
   "metadata": {},
   "source": [
    "### Gradio webapp"
   ]
  },
  {
   "cell_type": "code",
   "execution_count": 11,
   "id": "17712824",
   "metadata": {},
   "outputs": [
    {
     "name": "stderr",
     "output_type": "stream",
     "text": [
      "C:\\Users\\n_cic\\anaconda3\\envs\\qna_app_env\\lib\\site-packages\\gradio\\blocks.py:277: UserWarning: api_name predict already exists, using predict_1\n",
      "  warnings.warn(f\"api_name {api_name} already exists, using {api_name_}\")\n"
     ]
    },
    {
     "name": "stdout",
     "output_type": "stream",
     "text": [
      "Running on local URL:  http://127.0.0.1:7860\n",
      "\n",
      "To create a public link, set `share=True` in `launch()`.\n"
     ]
    },
    {
     "data": {
      "text/html": [
       "<div><iframe src=\"http://127.0.0.1:7860/\" width=\"100%\" height=\"500\" allow=\"autoplay; camera; microphone; clipboard-read; clipboard-write;\" frameborder=\"0\" allowfullscreen></iframe></div>"
      ],
      "text/plain": [
       "<IPython.core.display.HTML object>"
      ]
     },
     "metadata": {},
     "output_type": "display_data"
    },
    {
     "data": {
      "text/plain": []
     },
     "execution_count": 11,
     "metadata": {},
     "output_type": "execute_result"
    },
    {
     "name": "stderr",
     "output_type": "stream",
     "text": [
      "Traceback (most recent call last):\n",
      "  File \"C:\\Users\\n_cic\\anaconda3\\envs\\qna_app_env\\lib\\site-packages\\gradio\\routes.py\", line 488, in run_predict\n",
      "    output = await app.get_blocks().process_api(\n",
      "  File \"C:\\Users\\n_cic\\anaconda3\\envs\\qna_app_env\\lib\\site-packages\\gradio\\blocks.py\", line 1431, in process_api\n",
      "    result = await self.call_function(\n",
      "  File \"C:\\Users\\n_cic\\anaconda3\\envs\\qna_app_env\\lib\\site-packages\\gradio\\blocks.py\", line 1109, in call_function\n",
      "    prediction = await anyio.to_thread.run_sync(\n",
      "  File \"C:\\Users\\n_cic\\anaconda3\\envs\\qna_app_env\\lib\\site-packages\\anyio\\to_thread.py\", line 33, in run_sync\n",
      "    return await get_asynclib().run_sync_in_worker_thread(\n",
      "  File \"C:\\Users\\n_cic\\anaconda3\\envs\\qna_app_env\\lib\\site-packages\\anyio\\_backends\\_asyncio.py\", line 877, in run_sync_in_worker_thread\n",
      "    return await future\n",
      "  File \"C:\\Users\\n_cic\\anaconda3\\envs\\qna_app_env\\lib\\site-packages\\anyio\\_backends\\_asyncio.py\", line 807, in run\n",
      "    result = context.run(func, *args)\n",
      "  File \"C:\\Users\\n_cic\\anaconda3\\envs\\qna_app_env\\lib\\site-packages\\gradio\\utils.py\", line 706, in wrapper\n",
      "    response = f(*args, **kwargs)\n",
      "  File \"C:\\Users\\n_cic\\AppData\\Local\\Temp\\ipykernel_24732\\1671495447.py\", line 3, in answer_question\n",
      "    response = my_pipeline({\n",
      "  File \"C:\\Users\\n_cic\\anaconda3\\envs\\qna_app_env\\lib\\site-packages\\transformers\\pipelines\\question_answering.py\", line 388, in __call__\n",
      "    examples = self._args_parser(*args, **kwargs)\n",
      "  File \"C:\\Users\\n_cic\\anaconda3\\envs\\qna_app_env\\lib\\site-packages\\transformers\\pipelines\\question_answering.py\", line 218, in __call__\n",
      "    inputs[i] = self.normalize(item)\n",
      "  File \"C:\\Users\\n_cic\\anaconda3\\envs\\qna_app_env\\lib\\site-packages\\transformers\\pipelines\\question_answering.py\", line 168, in normalize\n",
      "    raise ValueError(f\"`{k}` cannot be empty\")\n",
      "ValueError: `context` cannot be empty\n",
      "Traceback (most recent call last):\n",
      "  File \"C:\\Users\\n_cic\\anaconda3\\envs\\qna_app_env\\lib\\site-packages\\gradio\\routes.py\", line 488, in run_predict\n",
      "    output = await app.get_blocks().process_api(\n",
      "  File \"C:\\Users\\n_cic\\anaconda3\\envs\\qna_app_env\\lib\\site-packages\\gradio\\blocks.py\", line 1431, in process_api\n",
      "    result = await self.call_function(\n",
      "  File \"C:\\Users\\n_cic\\anaconda3\\envs\\qna_app_env\\lib\\site-packages\\gradio\\blocks.py\", line 1109, in call_function\n",
      "    prediction = await anyio.to_thread.run_sync(\n",
      "  File \"C:\\Users\\n_cic\\anaconda3\\envs\\qna_app_env\\lib\\site-packages\\anyio\\to_thread.py\", line 33, in run_sync\n",
      "    return await get_asynclib().run_sync_in_worker_thread(\n",
      "  File \"C:\\Users\\n_cic\\anaconda3\\envs\\qna_app_env\\lib\\site-packages\\anyio\\_backends\\_asyncio.py\", line 877, in run_sync_in_worker_thread\n",
      "    return await future\n",
      "  File \"C:\\Users\\n_cic\\anaconda3\\envs\\qna_app_env\\lib\\site-packages\\anyio\\_backends\\_asyncio.py\", line 807, in run\n",
      "    result = context.run(func, *args)\n",
      "  File \"C:\\Users\\n_cic\\anaconda3\\envs\\qna_app_env\\lib\\site-packages\\gradio\\utils.py\", line 706, in wrapper\n",
      "    response = f(*args, **kwargs)\n",
      "  File \"C:\\Users\\n_cic\\AppData\\Local\\Temp\\ipykernel_24732\\1671495447.py\", line 3, in answer_question\n",
      "    response = my_pipeline({\n",
      "  File \"C:\\Users\\n_cic\\anaconda3\\envs\\qna_app_env\\lib\\site-packages\\transformers\\pipelines\\question_answering.py\", line 388, in __call__\n",
      "    examples = self._args_parser(*args, **kwargs)\n",
      "  File \"C:\\Users\\n_cic\\anaconda3\\envs\\qna_app_env\\lib\\site-packages\\transformers\\pipelines\\question_answering.py\", line 218, in __call__\n",
      "    inputs[i] = self.normalize(item)\n",
      "  File \"C:\\Users\\n_cic\\anaconda3\\envs\\qna_app_env\\lib\\site-packages\\transformers\\pipelines\\question_answering.py\", line 168, in normalize\n",
      "    raise ValueError(f\"`{k}` cannot be empty\")\n",
      "ValueError: `context` cannot be empty\n",
      "Traceback (most recent call last):\n",
      "  File \"C:\\Users\\n_cic\\anaconda3\\envs\\qna_app_env\\lib\\site-packages\\gradio\\routes.py\", line 488, in run_predict\n",
      "    output = await app.get_blocks().process_api(\n",
      "  File \"C:\\Users\\n_cic\\anaconda3\\envs\\qna_app_env\\lib\\site-packages\\gradio\\blocks.py\", line 1431, in process_api\n",
      "    result = await self.call_function(\n",
      "  File \"C:\\Users\\n_cic\\anaconda3\\envs\\qna_app_env\\lib\\site-packages\\gradio\\blocks.py\", line 1109, in call_function\n",
      "    prediction = await anyio.to_thread.run_sync(\n",
      "  File \"C:\\Users\\n_cic\\anaconda3\\envs\\qna_app_env\\lib\\site-packages\\anyio\\to_thread.py\", line 33, in run_sync\n",
      "    return await get_asynclib().run_sync_in_worker_thread(\n",
      "  File \"C:\\Users\\n_cic\\anaconda3\\envs\\qna_app_env\\lib\\site-packages\\anyio\\_backends\\_asyncio.py\", line 877, in run_sync_in_worker_thread\n",
      "    return await future\n",
      "  File \"C:\\Users\\n_cic\\anaconda3\\envs\\qna_app_env\\lib\\site-packages\\anyio\\_backends\\_asyncio.py\", line 807, in run\n",
      "    result = context.run(func, *args)\n",
      "  File \"C:\\Users\\n_cic\\anaconda3\\envs\\qna_app_env\\lib\\site-packages\\gradio\\utils.py\", line 706, in wrapper\n",
      "    response = f(*args, **kwargs)\n",
      "  File \"C:\\Users\\n_cic\\AppData\\Local\\Temp\\ipykernel_24732\\1671495447.py\", line 3, in answer_question\n",
      "    response = my_pipeline({\n",
      "  File \"C:\\Users\\n_cic\\anaconda3\\envs\\qna_app_env\\lib\\site-packages\\transformers\\pipelines\\question_answering.py\", line 388, in __call__\n",
      "    examples = self._args_parser(*args, **kwargs)\n",
      "  File \"C:\\Users\\n_cic\\anaconda3\\envs\\qna_app_env\\lib\\site-packages\\transformers\\pipelines\\question_answering.py\", line 218, in __call__\n",
      "    inputs[i] = self.normalize(item)\n",
      "  File \"C:\\Users\\n_cic\\anaconda3\\envs\\qna_app_env\\lib\\site-packages\\transformers\\pipelines\\question_answering.py\", line 168, in normalize\n",
      "    raise ValueError(f\"`{k}` cannot be empty\")\n",
      "ValueError: `context` cannot be empty\n",
      "Traceback (most recent call last):\n",
      "  File \"C:\\Users\\n_cic\\anaconda3\\envs\\qna_app_env\\lib\\site-packages\\gradio\\routes.py\", line 488, in run_predict\n",
      "    output = await app.get_blocks().process_api(\n",
      "  File \"C:\\Users\\n_cic\\anaconda3\\envs\\qna_app_env\\lib\\site-packages\\gradio\\blocks.py\", line 1431, in process_api\n",
      "    result = await self.call_function(\n",
      "  File \"C:\\Users\\n_cic\\anaconda3\\envs\\qna_app_env\\lib\\site-packages\\gradio\\blocks.py\", line 1109, in call_function\n",
      "    prediction = await anyio.to_thread.run_sync(\n",
      "  File \"C:\\Users\\n_cic\\anaconda3\\envs\\qna_app_env\\lib\\site-packages\\anyio\\to_thread.py\", line 33, in run_sync\n",
      "    return await get_asynclib().run_sync_in_worker_thread(\n",
      "  File \"C:\\Users\\n_cic\\anaconda3\\envs\\qna_app_env\\lib\\site-packages\\anyio\\_backends\\_asyncio.py\", line 877, in run_sync_in_worker_thread\n",
      "    return await future\n",
      "  File \"C:\\Users\\n_cic\\anaconda3\\envs\\qna_app_env\\lib\\site-packages\\anyio\\_backends\\_asyncio.py\", line 807, in run\n",
      "    result = context.run(func, *args)\n",
      "  File \"C:\\Users\\n_cic\\anaconda3\\envs\\qna_app_env\\lib\\site-packages\\gradio\\utils.py\", line 706, in wrapper\n",
      "    response = f(*args, **kwargs)\n",
      "  File \"C:\\Users\\n_cic\\AppData\\Local\\Temp\\ipykernel_24732\\1671495447.py\", line 3, in answer_question\n",
      "    response = my_pipeline({\n",
      "  File \"C:\\Users\\n_cic\\anaconda3\\envs\\qna_app_env\\lib\\site-packages\\transformers\\pipelines\\question_answering.py\", line 388, in __call__\n",
      "    examples = self._args_parser(*args, **kwargs)\n",
      "  File \"C:\\Users\\n_cic\\anaconda3\\envs\\qna_app_env\\lib\\site-packages\\transformers\\pipelines\\question_answering.py\", line 218, in __call__\n",
      "    inputs[i] = self.normalize(item)\n",
      "  File \"C:\\Users\\n_cic\\anaconda3\\envs\\qna_app_env\\lib\\site-packages\\transformers\\pipelines\\question_answering.py\", line 168, in normalize\n",
      "    raise ValueError(f\"`{k}` cannot be empty\")\n",
      "ValueError: `context` cannot be empty\n",
      "Traceback (most recent call last):\n",
      "  File \"C:\\Users\\n_cic\\anaconda3\\envs\\qna_app_env\\lib\\site-packages\\gradio\\routes.py\", line 488, in run_predict\n",
      "    output = await app.get_blocks().process_api(\n",
      "  File \"C:\\Users\\n_cic\\anaconda3\\envs\\qna_app_env\\lib\\site-packages\\gradio\\blocks.py\", line 1431, in process_api\n",
      "    result = await self.call_function(\n",
      "  File \"C:\\Users\\n_cic\\anaconda3\\envs\\qna_app_env\\lib\\site-packages\\gradio\\blocks.py\", line 1109, in call_function\n",
      "    prediction = await anyio.to_thread.run_sync(\n",
      "  File \"C:\\Users\\n_cic\\anaconda3\\envs\\qna_app_env\\lib\\site-packages\\anyio\\to_thread.py\", line 33, in run_sync\n",
      "    return await get_asynclib().run_sync_in_worker_thread(\n",
      "  File \"C:\\Users\\n_cic\\anaconda3\\envs\\qna_app_env\\lib\\site-packages\\anyio\\_backends\\_asyncio.py\", line 877, in run_sync_in_worker_thread\n",
      "    return await future\n",
      "  File \"C:\\Users\\n_cic\\anaconda3\\envs\\qna_app_env\\lib\\site-packages\\anyio\\_backends\\_asyncio.py\", line 807, in run\n",
      "    result = context.run(func, *args)\n",
      "  File \"C:\\Users\\n_cic\\anaconda3\\envs\\qna_app_env\\lib\\site-packages\\gradio\\utils.py\", line 706, in wrapper\n",
      "    response = f(*args, **kwargs)\n",
      "  File \"C:\\Users\\n_cic\\AppData\\Local\\Temp\\ipykernel_24732\\1671495447.py\", line 3, in answer_question\n",
      "    response = my_pipeline({\n",
      "  File \"C:\\Users\\n_cic\\anaconda3\\envs\\qna_app_env\\lib\\site-packages\\transformers\\pipelines\\question_answering.py\", line 388, in __call__\n",
      "    examples = self._args_parser(*args, **kwargs)\n",
      "  File \"C:\\Users\\n_cic\\anaconda3\\envs\\qna_app_env\\lib\\site-packages\\transformers\\pipelines\\question_answering.py\", line 218, in __call__\n",
      "    inputs[i] = self.normalize(item)\n",
      "  File \"C:\\Users\\n_cic\\anaconda3\\envs\\qna_app_env\\lib\\site-packages\\transformers\\pipelines\\question_answering.py\", line 168, in normalize\n",
      "    raise ValueError(f\"`{k}` cannot be empty\")\n",
      "ValueError: `context` cannot be empty\n"
     ]
    },
    {
     "name": "stderr",
     "output_type": "stream",
     "text": [
      "Traceback (most recent call last):\n",
      "  File \"C:\\Users\\n_cic\\anaconda3\\envs\\qna_app_env\\lib\\site-packages\\gradio\\routes.py\", line 488, in run_predict\n",
      "    output = await app.get_blocks().process_api(\n",
      "  File \"C:\\Users\\n_cic\\anaconda3\\envs\\qna_app_env\\lib\\site-packages\\gradio\\blocks.py\", line 1431, in process_api\n",
      "    result = await self.call_function(\n",
      "  File \"C:\\Users\\n_cic\\anaconda3\\envs\\qna_app_env\\lib\\site-packages\\gradio\\blocks.py\", line 1109, in call_function\n",
      "    prediction = await anyio.to_thread.run_sync(\n",
      "  File \"C:\\Users\\n_cic\\anaconda3\\envs\\qna_app_env\\lib\\site-packages\\anyio\\to_thread.py\", line 33, in run_sync\n",
      "    return await get_asynclib().run_sync_in_worker_thread(\n",
      "  File \"C:\\Users\\n_cic\\anaconda3\\envs\\qna_app_env\\lib\\site-packages\\anyio\\_backends\\_asyncio.py\", line 877, in run_sync_in_worker_thread\n",
      "    return await future\n",
      "  File \"C:\\Users\\n_cic\\anaconda3\\envs\\qna_app_env\\lib\\site-packages\\anyio\\_backends\\_asyncio.py\", line 807, in run\n",
      "    result = context.run(func, *args)\n",
      "  File \"C:\\Users\\n_cic\\anaconda3\\envs\\qna_app_env\\lib\\site-packages\\gradio\\utils.py\", line 706, in wrapper\n",
      "    response = f(*args, **kwargs)\n",
      "  File \"C:\\Users\\n_cic\\AppData\\Local\\Temp\\ipykernel_24732\\1671495447.py\", line 3, in answer_question\n",
      "    response = my_pipeline({\n",
      "  File \"C:\\Users\\n_cic\\anaconda3\\envs\\qna_app_env\\lib\\site-packages\\transformers\\pipelines\\question_answering.py\", line 388, in __call__\n",
      "    examples = self._args_parser(*args, **kwargs)\n",
      "  File \"C:\\Users\\n_cic\\anaconda3\\envs\\qna_app_env\\lib\\site-packages\\transformers\\pipelines\\question_answering.py\", line 218, in __call__\n",
      "    inputs[i] = self.normalize(item)\n",
      "  File \"C:\\Users\\n_cic\\anaconda3\\envs\\qna_app_env\\lib\\site-packages\\transformers\\pipelines\\question_answering.py\", line 168, in normalize\n",
      "    raise ValueError(f\"`{k}` cannot be empty\")\n",
      "ValueError: `context` cannot be empty\n",
      "Traceback (most recent call last):\n",
      "  File \"C:\\Users\\n_cic\\anaconda3\\envs\\qna_app_env\\lib\\site-packages\\gradio\\routes.py\", line 488, in run_predict\n",
      "    output = await app.get_blocks().process_api(\n",
      "  File \"C:\\Users\\n_cic\\anaconda3\\envs\\qna_app_env\\lib\\site-packages\\gradio\\blocks.py\", line 1431, in process_api\n",
      "    result = await self.call_function(\n",
      "  File \"C:\\Users\\n_cic\\anaconda3\\envs\\qna_app_env\\lib\\site-packages\\gradio\\blocks.py\", line 1109, in call_function\n",
      "    prediction = await anyio.to_thread.run_sync(\n",
      "  File \"C:\\Users\\n_cic\\anaconda3\\envs\\qna_app_env\\lib\\site-packages\\anyio\\to_thread.py\", line 33, in run_sync\n",
      "    return await get_asynclib().run_sync_in_worker_thread(\n",
      "  File \"C:\\Users\\n_cic\\anaconda3\\envs\\qna_app_env\\lib\\site-packages\\anyio\\_backends\\_asyncio.py\", line 877, in run_sync_in_worker_thread\n",
      "    return await future\n",
      "  File \"C:\\Users\\n_cic\\anaconda3\\envs\\qna_app_env\\lib\\site-packages\\anyio\\_backends\\_asyncio.py\", line 807, in run\n",
      "    result = context.run(func, *args)\n",
      "  File \"C:\\Users\\n_cic\\anaconda3\\envs\\qna_app_env\\lib\\site-packages\\gradio\\utils.py\", line 706, in wrapper\n",
      "    response = f(*args, **kwargs)\n",
      "  File \"C:\\Users\\n_cic\\AppData\\Local\\Temp\\ipykernel_24732\\1671495447.py\", line 3, in answer_question\n",
      "    response = my_pipeline({\n",
      "  File \"C:\\Users\\n_cic\\anaconda3\\envs\\qna_app_env\\lib\\site-packages\\transformers\\pipelines\\question_answering.py\", line 388, in __call__\n",
      "    examples = self._args_parser(*args, **kwargs)\n",
      "  File \"C:\\Users\\n_cic\\anaconda3\\envs\\qna_app_env\\lib\\site-packages\\transformers\\pipelines\\question_answering.py\", line 218, in __call__\n",
      "    inputs[i] = self.normalize(item)\n",
      "  File \"C:\\Users\\n_cic\\anaconda3\\envs\\qna_app_env\\lib\\site-packages\\transformers\\pipelines\\question_answering.py\", line 168, in normalize\n",
      "    raise ValueError(f\"`{k}` cannot be empty\")\n",
      "ValueError: `context` cannot be empty\n",
      "Traceback (most recent call last):\n",
      "  File \"C:\\Users\\n_cic\\anaconda3\\envs\\qna_app_env\\lib\\site-packages\\gradio\\routes.py\", line 488, in run_predict\n",
      "    output = await app.get_blocks().process_api(\n",
      "  File \"C:\\Users\\n_cic\\anaconda3\\envs\\qna_app_env\\lib\\site-packages\\gradio\\blocks.py\", line 1431, in process_api\n",
      "    result = await self.call_function(\n",
      "  File \"C:\\Users\\n_cic\\anaconda3\\envs\\qna_app_env\\lib\\site-packages\\gradio\\blocks.py\", line 1109, in call_function\n",
      "    prediction = await anyio.to_thread.run_sync(\n",
      "  File \"C:\\Users\\n_cic\\anaconda3\\envs\\qna_app_env\\lib\\site-packages\\anyio\\to_thread.py\", line 33, in run_sync\n",
      "    return await get_asynclib().run_sync_in_worker_thread(\n",
      "  File \"C:\\Users\\n_cic\\anaconda3\\envs\\qna_app_env\\lib\\site-packages\\anyio\\_backends\\_asyncio.py\", line 877, in run_sync_in_worker_thread\n",
      "    return await future\n",
      "  File \"C:\\Users\\n_cic\\anaconda3\\envs\\qna_app_env\\lib\\site-packages\\anyio\\_backends\\_asyncio.py\", line 807, in run\n",
      "    result = context.run(func, *args)\n",
      "  File \"C:\\Users\\n_cic\\anaconda3\\envs\\qna_app_env\\lib\\site-packages\\gradio\\utils.py\", line 706, in wrapper\n",
      "    response = f(*args, **kwargs)\n",
      "  File \"C:\\Users\\n_cic\\AppData\\Local\\Temp\\ipykernel_24732\\1671495447.py\", line 3, in answer_question\n",
      "    response = my_pipeline({\n",
      "  File \"C:\\Users\\n_cic\\anaconda3\\envs\\qna_app_env\\lib\\site-packages\\transformers\\pipelines\\question_answering.py\", line 388, in __call__\n",
      "    examples = self._args_parser(*args, **kwargs)\n",
      "  File \"C:\\Users\\n_cic\\anaconda3\\envs\\qna_app_env\\lib\\site-packages\\transformers\\pipelines\\question_answering.py\", line 218, in __call__\n",
      "    inputs[i] = self.normalize(item)\n",
      "  File \"C:\\Users\\n_cic\\anaconda3\\envs\\qna_app_env\\lib\\site-packages\\transformers\\pipelines\\question_answering.py\", line 168, in normalize\n",
      "    raise ValueError(f\"`{k}` cannot be empty\")\n",
      "ValueError: `context` cannot be empty\n",
      "Traceback (most recent call last):\n",
      "  File \"C:\\Users\\n_cic\\anaconda3\\envs\\qna_app_env\\lib\\site-packages\\gradio\\routes.py\", line 488, in run_predict\n",
      "    output = await app.get_blocks().process_api(\n",
      "  File \"C:\\Users\\n_cic\\anaconda3\\envs\\qna_app_env\\lib\\site-packages\\gradio\\blocks.py\", line 1431, in process_api\n",
      "    result = await self.call_function(\n",
      "  File \"C:\\Users\\n_cic\\anaconda3\\envs\\qna_app_env\\lib\\site-packages\\gradio\\blocks.py\", line 1109, in call_function\n",
      "    prediction = await anyio.to_thread.run_sync(\n",
      "  File \"C:\\Users\\n_cic\\anaconda3\\envs\\qna_app_env\\lib\\site-packages\\anyio\\to_thread.py\", line 33, in run_sync\n",
      "    return await get_asynclib().run_sync_in_worker_thread(\n",
      "  File \"C:\\Users\\n_cic\\anaconda3\\envs\\qna_app_env\\lib\\site-packages\\anyio\\_backends\\_asyncio.py\", line 877, in run_sync_in_worker_thread\n",
      "    return await future\n",
      "  File \"C:\\Users\\n_cic\\anaconda3\\envs\\qna_app_env\\lib\\site-packages\\anyio\\_backends\\_asyncio.py\", line 807, in run\n",
      "    result = context.run(func, *args)\n",
      "  File \"C:\\Users\\n_cic\\anaconda3\\envs\\qna_app_env\\lib\\site-packages\\gradio\\utils.py\", line 706, in wrapper\n",
      "    response = f(*args, **kwargs)\n",
      "  File \"C:\\Users\\n_cic\\AppData\\Local\\Temp\\ipykernel_24732\\1671495447.py\", line 3, in answer_question\n",
      "    response = my_pipeline({\n",
      "  File \"C:\\Users\\n_cic\\anaconda3\\envs\\qna_app_env\\lib\\site-packages\\transformers\\pipelines\\question_answering.py\", line 388, in __call__\n",
      "    examples = self._args_parser(*args, **kwargs)\n",
      "  File \"C:\\Users\\n_cic\\anaconda3\\envs\\qna_app_env\\lib\\site-packages\\transformers\\pipelines\\question_answering.py\", line 218, in __call__\n",
      "    inputs[i] = self.normalize(item)\n",
      "  File \"C:\\Users\\n_cic\\anaconda3\\envs\\qna_app_env\\lib\\site-packages\\transformers\\pipelines\\question_answering.py\", line 168, in normalize\n",
      "    raise ValueError(f\"`{k}` cannot be empty\")\n",
      "ValueError: `question` cannot be empty\n",
      "Traceback (most recent call last):\n",
      "  File \"C:\\Users\\n_cic\\anaconda3\\envs\\qna_app_env\\lib\\site-packages\\gradio\\routes.py\", line 488, in run_predict\n",
      "    output = await app.get_blocks().process_api(\n",
      "  File \"C:\\Users\\n_cic\\anaconda3\\envs\\qna_app_env\\lib\\site-packages\\gradio\\blocks.py\", line 1431, in process_api\n",
      "    result = await self.call_function(\n",
      "  File \"C:\\Users\\n_cic\\anaconda3\\envs\\qna_app_env\\lib\\site-packages\\gradio\\blocks.py\", line 1109, in call_function\n",
      "    prediction = await anyio.to_thread.run_sync(\n",
      "  File \"C:\\Users\\n_cic\\anaconda3\\envs\\qna_app_env\\lib\\site-packages\\anyio\\to_thread.py\", line 33, in run_sync\n",
      "    return await get_asynclib().run_sync_in_worker_thread(\n",
      "  File \"C:\\Users\\n_cic\\anaconda3\\envs\\qna_app_env\\lib\\site-packages\\anyio\\_backends\\_asyncio.py\", line 877, in run_sync_in_worker_thread\n",
      "    return await future\n",
      "  File \"C:\\Users\\n_cic\\anaconda3\\envs\\qna_app_env\\lib\\site-packages\\anyio\\_backends\\_asyncio.py\", line 807, in run\n",
      "    result = context.run(func, *args)\n",
      "  File \"C:\\Users\\n_cic\\anaconda3\\envs\\qna_app_env\\lib\\site-packages\\gradio\\utils.py\", line 706, in wrapper\n",
      "    response = f(*args, **kwargs)\n",
      "  File \"C:\\Users\\n_cic\\AppData\\Local\\Temp\\ipykernel_24732\\1671495447.py\", line 3, in answer_question\n",
      "    response = my_pipeline({\n",
      "  File \"C:\\Users\\n_cic\\anaconda3\\envs\\qna_app_env\\lib\\site-packages\\transformers\\pipelines\\question_answering.py\", line 388, in __call__\n",
      "    examples = self._args_parser(*args, **kwargs)\n",
      "  File \"C:\\Users\\n_cic\\anaconda3\\envs\\qna_app_env\\lib\\site-packages\\transformers\\pipelines\\question_answering.py\", line 218, in __call__\n",
      "    inputs[i] = self.normalize(item)\n",
      "  File \"C:\\Users\\n_cic\\anaconda3\\envs\\qna_app_env\\lib\\site-packages\\transformers\\pipelines\\question_answering.py\", line 168, in normalize\n",
      "    raise ValueError(f\"`{k}` cannot be empty\")\n",
      "ValueError: `question` cannot be empty\n"
     ]
    },
    {
     "name": "stderr",
     "output_type": "stream",
     "text": [
      "Traceback (most recent call last):\n",
      "  File \"C:\\Users\\n_cic\\anaconda3\\envs\\qna_app_env\\lib\\site-packages\\gradio\\routes.py\", line 488, in run_predict\n",
      "    output = await app.get_blocks().process_api(\n",
      "  File \"C:\\Users\\n_cic\\anaconda3\\envs\\qna_app_env\\lib\\site-packages\\gradio\\blocks.py\", line 1431, in process_api\n",
      "    result = await self.call_function(\n",
      "  File \"C:\\Users\\n_cic\\anaconda3\\envs\\qna_app_env\\lib\\site-packages\\gradio\\blocks.py\", line 1109, in call_function\n",
      "    prediction = await anyio.to_thread.run_sync(\n",
      "  File \"C:\\Users\\n_cic\\anaconda3\\envs\\qna_app_env\\lib\\site-packages\\anyio\\to_thread.py\", line 33, in run_sync\n",
      "    return await get_asynclib().run_sync_in_worker_thread(\n",
      "  File \"C:\\Users\\n_cic\\anaconda3\\envs\\qna_app_env\\lib\\site-packages\\anyio\\_backends\\_asyncio.py\", line 877, in run_sync_in_worker_thread\n",
      "    return await future\n",
      "  File \"C:\\Users\\n_cic\\anaconda3\\envs\\qna_app_env\\lib\\site-packages\\anyio\\_backends\\_asyncio.py\", line 807, in run\n",
      "    result = context.run(func, *args)\n",
      "  File \"C:\\Users\\n_cic\\anaconda3\\envs\\qna_app_env\\lib\\site-packages\\gradio\\utils.py\", line 706, in wrapper\n",
      "    response = f(*args, **kwargs)\n",
      "  File \"C:\\Users\\n_cic\\AppData\\Local\\Temp\\ipykernel_24732\\1671495447.py\", line 3, in answer_question\n",
      "    response = my_pipeline({\n",
      "  File \"C:\\Users\\n_cic\\anaconda3\\envs\\qna_app_env\\lib\\site-packages\\transformers\\pipelines\\question_answering.py\", line 388, in __call__\n",
      "    examples = self._args_parser(*args, **kwargs)\n",
      "  File \"C:\\Users\\n_cic\\anaconda3\\envs\\qna_app_env\\lib\\site-packages\\transformers\\pipelines\\question_answering.py\", line 218, in __call__\n",
      "    inputs[i] = self.normalize(item)\n",
      "  File \"C:\\Users\\n_cic\\anaconda3\\envs\\qna_app_env\\lib\\site-packages\\transformers\\pipelines\\question_answering.py\", line 168, in normalize\n",
      "    raise ValueError(f\"`{k}` cannot be empty\")\n",
      "ValueError: `question` cannot be empty\n",
      "Traceback (most recent call last):\n",
      "  File \"C:\\Users\\n_cic\\anaconda3\\envs\\qna_app_env\\lib\\site-packages\\gradio\\routes.py\", line 488, in run_predict\n",
      "    output = await app.get_blocks().process_api(\n",
      "  File \"C:\\Users\\n_cic\\anaconda3\\envs\\qna_app_env\\lib\\site-packages\\gradio\\blocks.py\", line 1431, in process_api\n",
      "    result = await self.call_function(\n",
      "  File \"C:\\Users\\n_cic\\anaconda3\\envs\\qna_app_env\\lib\\site-packages\\gradio\\blocks.py\", line 1109, in call_function\n",
      "    prediction = await anyio.to_thread.run_sync(\n",
      "  File \"C:\\Users\\n_cic\\anaconda3\\envs\\qna_app_env\\lib\\site-packages\\anyio\\to_thread.py\", line 33, in run_sync\n",
      "    return await get_asynclib().run_sync_in_worker_thread(\n",
      "  File \"C:\\Users\\n_cic\\anaconda3\\envs\\qna_app_env\\lib\\site-packages\\anyio\\_backends\\_asyncio.py\", line 877, in run_sync_in_worker_thread\n",
      "    return await future\n",
      "  File \"C:\\Users\\n_cic\\anaconda3\\envs\\qna_app_env\\lib\\site-packages\\anyio\\_backends\\_asyncio.py\", line 807, in run\n",
      "    result = context.run(func, *args)\n",
      "  File \"C:\\Users\\n_cic\\anaconda3\\envs\\qna_app_env\\lib\\site-packages\\gradio\\utils.py\", line 706, in wrapper\n",
      "    response = f(*args, **kwargs)\n",
      "  File \"C:\\Users\\n_cic\\AppData\\Local\\Temp\\ipykernel_24732\\1671495447.py\", line 3, in answer_question\n",
      "    response = my_pipeline({\n",
      "  File \"C:\\Users\\n_cic\\anaconda3\\envs\\qna_app_env\\lib\\site-packages\\transformers\\pipelines\\question_answering.py\", line 388, in __call__\n",
      "    examples = self._args_parser(*args, **kwargs)\n",
      "  File \"C:\\Users\\n_cic\\anaconda3\\envs\\qna_app_env\\lib\\site-packages\\transformers\\pipelines\\question_answering.py\", line 218, in __call__\n",
      "    inputs[i] = self.normalize(item)\n",
      "  File \"C:\\Users\\n_cic\\anaconda3\\envs\\qna_app_env\\lib\\site-packages\\transformers\\pipelines\\question_answering.py\", line 168, in normalize\n",
      "    raise ValueError(f\"`{k}` cannot be empty\")\n",
      "ValueError: `question` cannot be empty\n"
     ]
    }
   ],
   "source": [
    "# Gradio app\n",
    "iface = gradio.Interface(\n",
    "    fn=answer_question, \n",
    "    inputs=[\"text\", \"text\"], \n",
    "    outputs=\"text\",\n",
    "    live=True\n",
    ")\n",
    "iface.launch()"
   ]
  },
  {
   "cell_type": "code",
   "execution_count": null,
   "id": "fb707a8e",
   "metadata": {},
   "outputs": [],
   "source": [
    "# Running on local URL:  http://127.0.0.1:7860\n",
    "\n",
    "# To create a public link, set `share=True` in `launch()`."
   ]
  },
  {
   "cell_type": "markdown",
   "id": "997c8a91",
   "metadata": {},
   "source": [
    "end of the notebook"
   ]
  }
 ],
 "metadata": {
  "kernelspec": {
   "display_name": "QnA App Environment",
   "language": "python",
   "name": "qna_app_env"
  },
  "language_info": {
   "codemirror_mode": {
    "name": "ipython",
    "version": 3
   },
   "file_extension": ".py",
   "mimetype": "text/x-python",
   "name": "python",
   "nbconvert_exporter": "python",
   "pygments_lexer": "ipython3",
   "version": "3.8.17"
  }
 },
 "nbformat": 4,
 "nbformat_minor": 5
}
